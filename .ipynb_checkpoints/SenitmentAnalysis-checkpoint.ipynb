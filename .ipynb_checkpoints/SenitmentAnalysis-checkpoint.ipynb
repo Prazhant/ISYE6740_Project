{
 "cells": [
  {
   "cell_type": "code",
   "execution_count": 1,
   "metadata": {},
   "outputs": [
    {
     "name": "stderr",
     "output_type": "stream",
     "text": [
      "[nltk_data] Downloading package stopwords to\n",
      "[nltk_data]     /Users/prashantkubsad/nltk_data...\n",
      "[nltk_data]   Package stopwords is already up-to-date!\n",
      "[nltk_data] Downloading package punkt to\n",
      "[nltk_data]     /Users/prashantkubsad/nltk_data...\n",
      "[nltk_data]   Package punkt is already up-to-date!\n"
     ]
    }
   ],
   "source": [
    "import nltk\n",
    "nltk.download('stopwords')\n",
    "nltk.download('punkt')\n",
    "\n",
    "import pandas as pd\n",
    "import numpy as np\n",
    "import re\n",
    "import string\n",
    "from nltk.corpus import stopwords\n",
    "from nltk.tokenize import word_tokenize\n",
    "from sklearn.feature_extraction.text import TfidfVectorizer,CountVectorizer\n",
    "from sklearn.model_selection import train_test_split\n",
    "from nltk.stem import PorterStemmer\n",
    "from nltk.stem import WordNetLemmatizer\n",
    "# ML Libraries\n",
    "from sklearn.metrics import accuracy_score\n",
    "from sklearn.naive_bayes import MultinomialNB\n",
    "from sklearn.linear_model import LogisticRegression\n",
    "from sklearn.svm import SVC\n",
    "\n",
    "\n",
    "\n",
    "# Global Parameters\n",
    "stop_words = set(stopwords.words('english'))"
   ]
  },
  {
   "cell_type": "code",
   "execution_count": 3,
   "metadata": {},
   "outputs": [],
   "source": [
    "def load_dataset(filename, cols):\n",
    "    dataset = pd.read_csv(filename, encoding='latin-1')\n",
    "    dataset.columns = cols\n",
    "    return dataset\n"
   ]
  },
  {
   "cell_type": "code",
   "execution_count": 4,
   "metadata": {},
   "outputs": [],
   "source": [
    "def remove_unwanted_cols(dataset, cols):\n",
    "    for col in cols:\n",
    "        del dataset[col]\n",
    "    return dataset"
   ]
  },
  {
   "cell_type": "code",
   "execution_count": 5,
   "metadata": {},
   "outputs": [],
   "source": [
    "def preprocess_tweet_text(tweet):\n",
    "    tweet.lower()\n",
    "    # Remove urls\n",
    "    tweet = re.sub(r\"http\\S+|www\\S+|https\\S+\", '', tweet, flags=re.MULTILINE)\n",
    "    # Remove user @ references and '#' from tweet\n",
    "    tweet = re.sub(r'\\@\\w+|\\#','', tweet)\n",
    "    # Remove punctuations\n",
    "    tweet = tweet.translate(str.maketrans('', '', string.punctuation))\n",
    "    # Remove stopwords\n",
    "    tweet_tokens = word_tokenize(tweet)\n",
    "    filtered_words = [w for w in tweet_tokens if not w in stop_words]\n",
    "    \n",
    "    #ps = PorterStemmer()\n",
    "    #stemmed_words = [ps.stem(w) for w in filtered_words]\n",
    "    #lemmatizer = WordNetLemmatizer()\n",
    "    #lemma_words = [lemmatizer.lemmatize(w, pos='a') for w in stemmed_words]\n",
    "    \n",
    "    return \" \".join(filtered_words)"
   ]
  },
  {
   "cell_type": "code",
   "execution_count": 6,
   "metadata": {},
   "outputs": [],
   "source": [
    "def get_feature_vector(train_fit):\n",
    "    vector = TfidfVectorizer(sublinear_tf=True)\n",
    "    vector.fit(train_fit)\n",
    "    return vector"
   ]
  },
  {
   "cell_type": "code",
   "execution_count": null,
   "metadata": {},
   "outputs": [],
   "source": [
    "def get_feature_vector_bow(train_fit):\n",
    "    vector = CountVectorizer(ngram_range=(1,1))\n",
    "    vector.fit(train_fit)\n",
    "    return vector"
   ]
  },
  {
   "cell_type": "code",
   "execution_count": 8,
   "metadata": {},
   "outputs": [],
   "source": [
    "def int_to_string(sentiment):\n",
    "    if sentiment == 0:\n",
    "        return \"Negative\"\n",
    "    elif sentiment == 2:\n",
    "        return \"Neutral\"\n",
    "    else:\n",
    "        return \"Positive\""
   ]
  },
  {
   "cell_type": "code",
   "execution_count": 16,
   "metadata": {},
   "outputs": [
    {
     "data": {
      "text/html": [
       "<div>\n",
       "<style scoped>\n",
       "    .dataframe tbody tr th:only-of-type {\n",
       "        vertical-align: middle;\n",
       "    }\n",
       "\n",
       "    .dataframe tbody tr th {\n",
       "        vertical-align: top;\n",
       "    }\n",
       "\n",
       "    .dataframe thead th {\n",
       "        text-align: right;\n",
       "    }\n",
       "</style>\n",
       "<table border=\"1\" class=\"dataframe\">\n",
       "  <thead>\n",
       "    <tr style=\"text-align: right;\">\n",
       "      <th></th>\n",
       "      <th>target</th>\n",
       "      <th>text</th>\n",
       "    </tr>\n",
       "  </thead>\n",
       "  <tbody>\n",
       "    <tr>\n",
       "      <th>0</th>\n",
       "      <td>0</td>\n",
       "      <td>upset cant update Facebook texting might cry r...</td>\n",
       "    </tr>\n",
       "    <tr>\n",
       "      <th>1</th>\n",
       "      <td>0</td>\n",
       "      <td>I dived many times ball Managed save 50 The re...</td>\n",
       "    </tr>\n",
       "    <tr>\n",
       "      <th>2</th>\n",
       "      <td>0</td>\n",
       "      <td>whole body feels itchy like fire</td>\n",
       "    </tr>\n",
       "    <tr>\n",
       "      <th>3</th>\n",
       "      <td>0</td>\n",
       "      <td>behaving im mad I cant see</td>\n",
       "    </tr>\n",
       "    <tr>\n",
       "      <th>4</th>\n",
       "      <td>0</td>\n",
       "      <td>whole crew</td>\n",
       "    </tr>\n",
       "    <tr>\n",
       "      <th>...</th>\n",
       "      <td>...</td>\n",
       "      <td>...</td>\n",
       "    </tr>\n",
       "    <tr>\n",
       "      <th>1599994</th>\n",
       "      <td>4</td>\n",
       "      <td>Just woke Having school best feeling ever</td>\n",
       "    </tr>\n",
       "    <tr>\n",
       "      <th>1599995</th>\n",
       "      <td>4</td>\n",
       "      <td>TheWDBcom Very cool hear old Walt interviews â «</td>\n",
       "    </tr>\n",
       "    <tr>\n",
       "      <th>1599996</th>\n",
       "      <td>4</td>\n",
       "      <td>Are ready MoJo Makeover Ask details</td>\n",
       "    </tr>\n",
       "    <tr>\n",
       "      <th>1599997</th>\n",
       "      <td>4</td>\n",
       "      <td>Happy 38th Birthday boo alll time Tupac Amaru ...</td>\n",
       "    </tr>\n",
       "    <tr>\n",
       "      <th>1599998</th>\n",
       "      <td>4</td>\n",
       "      <td>happy charitytuesday</td>\n",
       "    </tr>\n",
       "  </tbody>\n",
       "</table>\n",
       "<p>1599999 rows × 2 columns</p>\n",
       "</div>"
      ],
      "text/plain": [
       "         target                                               text\n",
       "0             0  upset cant update Facebook texting might cry r...\n",
       "1             0  I dived many times ball Managed save 50 The re...\n",
       "2             0                   whole body feels itchy like fire\n",
       "3             0                         behaving im mad I cant see\n",
       "4             0                                         whole crew\n",
       "...         ...                                                ...\n",
       "1599994       4          Just woke Having school best feeling ever\n",
       "1599995       4  TheWDBcom Very cool hear old Walt interviews â «\n",
       "1599996       4                Are ready MoJo Makeover Ask details\n",
       "1599997       4  Happy 38th Birthday boo alll time Tupac Amaru ...\n",
       "1599998       4                               happy charitytuesday\n",
       "\n",
       "[1599999 rows x 2 columns]"
      ]
     },
     "metadata": {},
     "output_type": "display_data"
    },
    {
     "name": "stdout",
     "output_type": "stream",
     "text": [
      "0.768521875\n",
      "0.787696875\n"
     ]
    },
    {
     "name": "stderr",
     "output_type": "stream",
     "text": [
      "/opt/anaconda3/lib/python3.8/site-packages/sklearn/linear_model/_logistic.py:762: ConvergenceWarning: lbfgs failed to converge (status=1):\n",
      "STOP: TOTAL NO. of ITERATIONS REACHED LIMIT.\n",
      "\n",
      "Increase the number of iterations (max_iter) or scale the data as shown in:\n",
      "    https://scikit-learn.org/stable/modules/preprocessing.html\n",
      "Please also refer to the documentation for alternative solver options:\n",
      "    https://scikit-learn.org/stable/modules/linear_model.html#logistic-regression\n",
      "  n_iter_i = _check_optimize_result(\n"
     ]
    }
   ],
   "source": [
    "display(dataset)\n",
    "\n",
    "# Load dataset\n",
    "dataset = load_dataset(\"data/training.csv\", ['target', 't_id', 'created_at', 'query', 'user', 'text'])\n",
    "# Remove unwanted columns from dataset\n",
    "n_dataset = remove_unwanted_cols(dataset, ['t_id', 'created_at', 'query', 'user'])\n",
    "#Preprocess data\n",
    "dataset.text = dataset['text'].apply(preprocess_tweet_text)\n",
    "# Split dataset into Train, Test\n",
    "\n",
    "# Same tf vector will be used for Testing sentiments on unseen trending data\n",
    "tf_vector = get_feature_vector(np.array(dataset.iloc[:, 1]).ravel())\n",
    "X = tf_vector.transform(np.array(dataset.iloc[:, 1]).ravel())\n",
    "y = np.array(dataset.iloc[:, 0]).ravel()\n",
    "X_train, X_test, y_train, y_test = train_test_split(X, y, test_size=0.2, random_state=30)\n",
    "\n",
    "# Training Naive Bayes model\n",
    "NB_model = MultinomialNB()\n",
    "NB_model.fit(X_train, y_train)\n",
    "y_predict_nb = NB_model.predict(X_test)\n",
    "print(accuracy_score(y_test, y_predict_nb))\n",
    "\n",
    "# Training Logistics Regression model\n",
    "LR_model = LogisticRegression(solver='lbfgs')\n",
    "LR_model.fit(X_train, y_train)\n",
    "y_predict_lr = LR_model.predict(X_test)\n",
    "print(accuracy_score(y_test, y_predict_lr))"
   ]
  },
  {
   "cell_type": "code",
   "execution_count": 41,
   "metadata": {},
   "outputs": [
    {
     "name": "stdout",
     "output_type": "stream",
     "text": [
      "neagtive_tweets                                                      0\n",
      "0    Hey @travelocity and @Delta ... Neither of you...\n",
      "1    Flew into #FortMyers on @delta &amp; flying ou...\n",
      "6    Those afraid to Die, will never truly Live. \\n...\n",
      "7    RT @riskmap_ : Police Arrest Three Suspected K...\n",
      "8    #Delta Sucks. It's a 2 hour hold to change res...\n",
      "..                                                 ...\n",
      "511  RT @DPDTraffic : The intersection at 60th ave ...\n",
      "512  RT @DPDTraffic : The intersection at 60th ave ...\n",
      "513  The intersection at 60th ave and 17a in #Delta...\n",
      "518  and in #Delta crash on 62b North of #Hwy99 ove...\n",
      "519  “Go Woke Go Broke”\\n\\n#NBA\\n#MLB\\n#Delta\\n#Cok...\n",
      "\n",
      "[140 rows x 1 columns]\n",
      "positive_tweets:                                                      0\n",
      "2        We are 2:33 in @delta #delta #customerservice\n",
      "3    RT @AshVerma111 : #ResultReview \\n\\n#DELTA COR...\n",
      "4    RT @SwishTravels : Peaceful soothing sounds \\n...\n",
      "5    @BitPay  allows you to buy #giftcards, #newegg...\n",
      "10   RT @SwishTravels : Peaceful soothing sounds \\n...\n",
      "..                                                 ...\n",
      "521  RT @KUnlatched : To celebrate the #EarthDay202...\n",
      "522  RT @mog7546 : BOYCOTT HOME DEPOT\\n\\n#Georgia r...\n",
      "523  RT @foxracingfive : Umm... guys? @52Toys @s250...\n",
      "524  RT @mog7546 : BOYCOTT HOME DEPOT\\n\\n#Georgia r...\n",
      "525  RT @mog7546 : BOYCOTT HOME DEPOT\\n\\n#Georgia r...\n",
      "\n",
      "[386 rows x 1 columns]\n"
     ]
    }
   ],
   "source": [
    "actual_data=pd.read_excel('data/Delta.xlsx',header=None) \n",
    "# display(actual_data[0])\n",
    "# Creating text feature\n",
    "test_ds = actual_data[0].apply(preprocess_tweet_text)\n",
    "# print(test_ds.shape)\n",
    "test_feature = tf_vector.transform(np.array(test_ds).ravel())\n",
    "test_prediction_lr = LR_model.predict(test_feature)\n",
    "# display(test_prediction_lr)\n",
    "# print(type(test_prediction_lr))\n",
    "\n",
    "negative_tweets_index=np.where(test_prediction_lr == 0)\n",
    "positive_tweets_index=np.where(test_prediction_lr == 4)\n",
    "\n",
    "print(\"neagtive_tweets\",negative_tweets)\n",
    "print(\"positive_tweets:\",positive_tweets)\n",
    "\n",
    "negative_tweets =  actual_data.iloc[negative_tweets_index] \n",
    "positive_tweets = actual_data.iloc[positive_tweets_index] \n",
    "\n",
    "negative_tweets.to_excel(r'data/Tweets_Negative.xlsx',sheet_name='Negative_Tweets', index = False)\n",
    "positive_tweets.to_excel(r'data/Tweets_Positive.xlsx', sheet_name='Positive_Tweets',index = False)\n",
    "\n"
   ]
  },
  {
   "cell_type": "code",
   "execution_count": 15,
   "metadata": {},
   "outputs": [
    {
     "data": {
      "text/plain": [
       "<320000x443522 sparse matrix of type '<class 'numpy.float64'>'\n",
       "\twith 2361223 stored elements in Compressed Sparse Row format>"
      ]
     },
     "metadata": {},
     "output_type": "display_data"
    },
    {
     "name": "stdout",
     "output_type": "stream",
     "text": [
      "  (0, 364132)\t0.42644714183266574\n",
      "  (0, 349894)\t0.41769462130923357\n",
      "  (0, 328642)\t0.39981402559540785\n",
      "  (0, 191824)\t0.23662177442850596\n",
      "  (0, 141596)\t0.27453671651991435\n",
      "  (0, 80734)\t0.31228838212326554\n",
      "  (0, 70446)\t0.18746059745965948\n",
      "  (0, 49170)\t0.28151707480770655\n",
      "  (0, 26987)\t0.2619860098819319\n",
      "  (0, 18624)\t0.268157544452524\n",
      "  (1, 317180)\t0.3530760692263398\n",
      "  (1, 221551)\t0.4716324285048944\n",
      "  (1, 163944)\t0.4991100219081309\n",
      "  (1, 155007)\t0.3055886306443116\n",
      "  (1, 95435)\t0.5571399434379589\n",
      "  (2, 422999)\t0.5051839455473083\n",
      "  (2, 330799)\t0.47125740202777594\n",
      "  (2, 140226)\t0.7229838464276263\n",
      "  (3, 391327)\t0.5310464845380448\n",
      "  (3, 391321)\t0.5994834234045007\n",
      "  (3, 216230)\t0.2526875628971035\n",
      "  (3, 213652)\t0.37638636435171446\n",
      "  (3, 193086)\t0.23392450635881967\n",
      "  (3, 26732)\t0.31364132689269075\n",
      "  (4, 228714)\t0.5446455329776886\n",
      "  :\t:\n",
      "  (319995, 296066)\t0.2515788751771113\n",
      "  (319995, 253110)\t0.18089748426014476\n",
      "  (319995, 248109)\t0.3842407316787909\n",
      "  (319995, 220134)\t0.17044440073135522\n",
      "  (319995, 200339)\t0.19456747237475538\n",
      "  (319995, 182075)\t0.3834314468081863\n",
      "  (319995, 153716)\t0.15938914354889785\n",
      "  (319995, 135790)\t0.29364943720310405\n",
      "  (319995, 135706)\t0.22882139385826422\n",
      "  (319996, 386902)\t0.2607238005336423\n",
      "  (319996, 355449)\t0.6335167179002315\n",
      "  (319996, 236434)\t0.625437927326115\n",
      "  (319996, 178019)\t0.37350644845601405\n",
      "  (319997, 378479)\t0.31933442077938035\n",
      "  (319997, 312345)\t0.7773021704158531\n",
      "  (319997, 258625)\t0.35639242317524483\n",
      "  (319997, 139487)\t0.4084253962176922\n",
      "  (319998, 398955)\t0.22183828559680732\n",
      "  (319998, 391316)\t0.3703191515461817\n",
      "  (319998, 384527)\t0.19577501271176415\n",
      "  (319998, 381349)\t0.20907246536489016\n",
      "  (319998, 353194)\t0.6336163561350525\n",
      "  (319998, 317180)\t0.20256737916456302\n",
      "  (319998, 197328)\t0.36207397541153796\n",
      "  (319998, 37271)\t0.3975066743235445\n"
     ]
    }
   ],
   "source": []
  }
 ],
 "metadata": {
  "kernelspec": {
   "display_name": "Python 3",
   "language": "python",
   "name": "python3"
  },
  "language_info": {
   "codemirror_mode": {
    "name": "ipython",
    "version": 3
   },
   "file_extension": ".py",
   "mimetype": "text/x-python",
   "name": "python",
   "nbconvert_exporter": "python",
   "pygments_lexer": "ipython3",
   "version": "3.8.5"
  }
 },
 "nbformat": 4,
 "nbformat_minor": 4
}
