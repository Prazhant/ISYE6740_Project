{
 "cells": [
  {
   "cell_type": "code",
   "execution_count": 2,
   "metadata": {},
   "outputs": [
    {
     "name": "stderr",
     "output_type": "stream",
     "text": [
      "[nltk_data] Downloading package stopwords to\n",
      "[nltk_data]     /Users/prashantkubsad/nltk_data...\n",
      "[nltk_data]   Package stopwords is already up-to-date!\n",
      "[nltk_data] Downloading package punkt to\n",
      "[nltk_data]     /Users/prashantkubsad/nltk_data...\n",
      "[nltk_data]   Package punkt is already up-to-date!\n"
     ]
    }
   ],
   "source": [
    "import nltk\n",
    "nltk.download('stopwords')\n",
    "nltk.download('punkt')\n",
    "\n",
    "import pandas as pd\n",
    "import numpy as np\n",
    "import re\n",
    "import string\n",
    "from nltk.corpus import stopwords\n",
    "from nltk.tokenize import word_tokenize\n",
    "from sklearn.feature_extraction.text import TfidfVectorizer,CountVectorizer\n",
    "from sklearn.model_selection import train_test_split\n",
    "from nltk.stem import PorterStemmer\n",
    "from nltk.stem import WordNetLemmatizer\n",
    "# ML Libraries\n",
    "from sklearn.metrics import accuracy_score\n",
    "from sklearn.naive_bayes import MultinomialNB\n",
    "from sklearn.linear_model import LogisticRegression\n",
    "from sklearn.svm import SVC\n",
    "\n",
    "\n",
    "\n",
    "# Global Parameters\n",
    "stop_words = set(stopwords.words('english'))"
   ]
  },
  {
   "cell_type": "code",
   "execution_count": 3,
   "metadata": {},
   "outputs": [],
   "source": [
    "def load_dataset(filename, cols):\n",
    "    dataset = pd.read_csv(filename, encoding='latin-1')\n",
    "    dataset.columns = cols\n",
    "    return dataset\n"
   ]
  },
  {
   "cell_type": "code",
   "execution_count": 4,
   "metadata": {},
   "outputs": [],
   "source": [
    "def remove_unwanted_cols(dataset, cols):\n",
    "    for col in cols:\n",
    "        del dataset[col]\n",
    "    return dataset"
   ]
  },
  {
   "cell_type": "code",
   "execution_count": 5,
   "metadata": {},
   "outputs": [],
   "source": [
    "def preprocess_tweet_text(tweet):\n",
    "    tweet.lower()\n",
    "    # Remove urls\n",
    "    tweet = re.sub(r\"http\\S+|www\\S+|https\\S+\", '', tweet, flags=re.MULTILINE)\n",
    "    # Remove user @ references and '#' from tweet\n",
    "    tweet = re.sub(r'\\@\\w+|\\#','', tweet)\n",
    "    # Remove punctuations\n",
    "    tweet = tweet.translate(str.maketrans('', '', string.punctuation))\n",
    "    # Remove stopwords\n",
    "    tweet_tokens = word_tokenize(tweet)\n",
    "    filtered_words = [w for w in tweet_tokens if not w in stop_words]\n",
    "    \n",
    "    #ps = PorterStemmer()\n",
    "    #stemmed_words = [ps.stem(w) for w in filtered_words]\n",
    "    #lemmatizer = WordNetLemmatizer()\n",
    "    #lemma_words = [lemmatizer.lemmatize(w, pos='a') for w in stemmed_words]\n",
    "    \n",
    "    return \" \".join(filtered_words)"
   ]
  },
  {
   "cell_type": "code",
   "execution_count": 6,
   "metadata": {},
   "outputs": [],
   "source": [
    "def get_feature_vector(train_fit):\n",
    "    vector = TfidfVectorizer(sublinear_tf=True)\n",
    "    vector.fit(train_fit)\n",
    "    return vector"
   ]
  },
  {
   "cell_type": "code",
   "execution_count": 9,
   "metadata": {},
   "outputs": [],
   "source": [
    "def get_feature_vector_bow(train_fit):\n",
    "    vector = CountVectorizer(ngram_range=(1,1))\n",
    "    vector.fit(train_fit)\n",
    "    return vector"
   ]
  },
  {
   "cell_type": "code",
   "execution_count": 7,
   "metadata": {},
   "outputs": [],
   "source": [
    "def int_to_string(sentiment):\n",
    "    if sentiment == 0:\n",
    "        return \"Negative\"\n",
    "    elif sentiment == 2:\n",
    "        return \"Neutral\"\n",
    "    else:\n",
    "        return \"Positive\""
   ]
  },
  {
   "cell_type": "code",
   "execution_count": 8,
   "metadata": {},
   "outputs": [
    {
     "name": "stdout",
     "output_type": "stream",
     "text": [
      "0.768521875\n",
      "0.787696875\n"
     ]
    },
    {
     "name": "stderr",
     "output_type": "stream",
     "text": [
      "/opt/anaconda3/lib/python3.8/site-packages/sklearn/linear_model/_logistic.py:762: ConvergenceWarning: lbfgs failed to converge (status=1):\n",
      "STOP: TOTAL NO. of ITERATIONS REACHED LIMIT.\n",
      "\n",
      "Increase the number of iterations (max_iter) or scale the data as shown in:\n",
      "    https://scikit-learn.org/stable/modules/preprocessing.html\n",
      "Please also refer to the documentation for alternative solver options:\n",
      "    https://scikit-learn.org/stable/modules/linear_model.html#logistic-regression\n",
      "  n_iter_i = _check_optimize_result(\n"
     ]
    }
   ],
   "source": [
    "# display(dataset)\n",
    "\n",
    "# Load dataset\n",
    "dataset = load_dataset(\"data/training.csv\", ['target', 't_id', 'created_at', 'query', 'user', 'text'])\n",
    "# Remove unwanted columns from dataset\n",
    "n_dataset = remove_unwanted_cols(dataset, ['t_id', 'created_at', 'query', 'user'])\n",
    "#Preprocess data\n",
    "dataset.text = dataset['text'].apply(preprocess_tweet_text)\n",
    "# Split dataset into Train, Test\n",
    "\n",
    "# Same tf vector will be used for Testing sentiments on unseen trending data\n",
    "tf_vector = get_feature_vector(np.array(dataset.iloc[:, 1]).ravel())\n",
    "X = tf_vector.transform(np.array(dataset.iloc[:, 1]).ravel())\n",
    "y = np.array(dataset.iloc[:, 0]).ravel()\n",
    "X_train, X_test, y_train, y_test = train_test_split(X, y, test_size=0.2, random_state=30)\n",
    "\n",
    "# Training Naive Bayes model\n",
    "NB_model = MultinomialNB()\n",
    "NB_model.fit(X_train, y_train)\n",
    "y_predict_nb = NB_model.predict(X_test)\n",
    "print(accuracy_score(y_test, y_predict_nb))\n",
    "\n",
    "# Training Logistics Regression model\n",
    "LR_model = LogisticRegression(solver='lbfgs')\n",
    "LR_model.fit(X_train, y_train)\n",
    "y_predict_lr = LR_model.predict(X_test)\n",
    "print(accuracy_score(y_test, y_predict_lr))"
   ]
  },
  {
   "cell_type": "code",
   "execution_count": 13,
   "metadata": {},
   "outputs": [
    {
     "name": "stdout",
     "output_type": "stream",
     "text": [
      "0.77415\n",
      "0.78414375\n"
     ]
    },
    {
     "name": "stderr",
     "output_type": "stream",
     "text": [
      "/opt/anaconda3/lib/python3.8/site-packages/sklearn/linear_model/_logistic.py:762: ConvergenceWarning: lbfgs failed to converge (status=1):\n",
      "STOP: TOTAL NO. of ITERATIONS REACHED LIMIT.\n",
      "\n",
      "Increase the number of iterations (max_iter) or scale the data as shown in:\n",
      "    https://scikit-learn.org/stable/modules/preprocessing.html\n",
      "Please also refer to the documentation for alternative solver options:\n",
      "    https://scikit-learn.org/stable/modules/linear_model.html#logistic-regression\n",
      "  n_iter_i = _check_optimize_result(\n"
     ]
    }
   ],
   "source": [
    "# display(dataset)\n",
    "\n",
    "# Load dataset\n",
    "dataset = load_dataset(\"data/training.csv\", ['target', 't_id', 'created_at', 'query', 'user', 'text'])\n",
    "# Remove unwanted columns from dataset\n",
    "n_dataset = remove_unwanted_cols(dataset, ['t_id', 'created_at', 'query', 'user'])\n",
    "#Preprocess data\n",
    "dataset.text = dataset['text'].apply(preprocess_tweet_text)\n",
    "# Split dataset into Train, Test\n",
    "\n",
    "# Same tf vector will be used for Testing sentiments on unseen trending data\n",
    "bow_vector = get_feature_vector_bow(np.array(dataset.iloc[:, 1]).ravel())\n",
    "X = bow_vector.transform(np.array(dataset.iloc[:, 1]).ravel())\n",
    "y = np.array(dataset.iloc[:, 0]).ravel()\n",
    "X_train, X_test, y_train, y_test = train_test_split(X, y, test_size=0.2, random_state=30)\n",
    "\n"
   ]
  },
  {
   "cell_type": "code",
   "execution_count": 14,
   "metadata": {},
   "outputs": [
    {
     "name": "stdout",
     "output_type": "stream",
     "text": [
      "0.77514375\n",
      "0.78414375\n"
     ]
    },
    {
     "name": "stderr",
     "output_type": "stream",
     "text": [
      "/opt/anaconda3/lib/python3.8/site-packages/sklearn/linear_model/_logistic.py:762: ConvergenceWarning: lbfgs failed to converge (status=1):\n",
      "STOP: TOTAL NO. of ITERATIONS REACHED LIMIT.\n",
      "\n",
      "Increase the number of iterations (max_iter) or scale the data as shown in:\n",
      "    https://scikit-learn.org/stable/modules/preprocessing.html\n",
      "Please also refer to the documentation for alternative solver options:\n",
      "    https://scikit-learn.org/stable/modules/linear_model.html#logistic-regression\n",
      "  n_iter_i = _check_optimize_result(\n"
     ]
    }
   ],
   "source": [
    "# Training Naive Bayes model\n",
    "NB_model = MultinomialNB(alpha=2.0)\n",
    "NB_model.fit(X_train, y_train)\n",
    "y_predict_nb = NB_model.predict(X_test)\n",
    "print(accuracy_score(y_test, y_predict_nb))\n",
    "\n",
    "# Training Logistics Regression model\n",
    "LR_model = LogisticRegression(solver='lbfgs')\n",
    "LR_model.fit(X_train, y_train)\n",
    "y_predict_lr = LR_model.predict(X_test)\n",
    "print(accuracy_score(y_test, y_predict_lr))"
   ]
  },
  {
   "cell_type": "code",
   "execution_count": 10,
   "metadata": {},
   "outputs": [],
   "source": [
    "actual_data=pd.read_excel('data/Tweets_CC_Filtered_En.xlsx',header=None) \n",
    "# display(actual_data[0])\n",
    "# Creating text feature\n",
    "test_ds = actual_data[0].apply(preprocess_tweet_text)\n",
    "# print(test_ds.shape)\n",
    "test_feature = tf_vector.transform(np.array(test_ds).ravel())\n",
    "test_prediction_lr = LR_model.predict(test_feature)\n",
    "# display(test_prediction_lr)\n",
    "# print(type(test_prediction_lr))\n",
    "\n",
    "negative_tweets_index=np.where(test_prediction_lr == 0)\n",
    "positive_tweets_index=np.where(test_prediction_lr == 4)\n",
    "\n",
    "# print(\"neagtive_tweets\",negative_tweets)\n",
    "# print(\"positive_tweets:\",positive_tweets)\n",
    "\n",
    "negative_tweets =  actual_data.iloc[negative_tweets_index] \n",
    "positive_tweets = actual_data.iloc[positive_tweets_index] \n",
    "\n",
    "negative_tweets.to_excel(r'data/Tweets_Negative_CC.xlsx',sheet_name='Negative_Tweets', index = False)\n",
    "positive_tweets.to_excel(r'data/Tweets_Positive_CC.xlsx', sheet_name='Positive_Tweets',index = False)\n",
    "\n"
   ]
  },
  {
   "cell_type": "code",
   "execution_count": 15,
   "metadata": {},
   "outputs": [
    {
     "data": {
      "text/plain": [
       "<320000x443522 sparse matrix of type '<class 'numpy.float64'>'\n",
       "\twith 2361223 stored elements in Compressed Sparse Row format>"
      ]
     },
     "metadata": {},
     "output_type": "display_data"
    },
    {
     "name": "stdout",
     "output_type": "stream",
     "text": [
      "  (0, 364132)\t0.42644714183266574\n",
      "  (0, 349894)\t0.41769462130923357\n",
      "  (0, 328642)\t0.39981402559540785\n",
      "  (0, 191824)\t0.23662177442850596\n",
      "  (0, 141596)\t0.27453671651991435\n",
      "  (0, 80734)\t0.31228838212326554\n",
      "  (0, 70446)\t0.18746059745965948\n",
      "  (0, 49170)\t0.28151707480770655\n",
      "  (0, 26987)\t0.2619860098819319\n",
      "  (0, 18624)\t0.268157544452524\n",
      "  (1, 317180)\t0.3530760692263398\n",
      "  (1, 221551)\t0.4716324285048944\n",
      "  (1, 163944)\t0.4991100219081309\n",
      "  (1, 155007)\t0.3055886306443116\n",
      "  (1, 95435)\t0.5571399434379589\n",
      "  (2, 422999)\t0.5051839455473083\n",
      "  (2, 330799)\t0.47125740202777594\n",
      "  (2, 140226)\t0.7229838464276263\n",
      "  (3, 391327)\t0.5310464845380448\n",
      "  (3, 391321)\t0.5994834234045007\n",
      "  (3, 216230)\t0.2526875628971035\n",
      "  (3, 213652)\t0.37638636435171446\n",
      "  (3, 193086)\t0.23392450635881967\n",
      "  (3, 26732)\t0.31364132689269075\n",
      "  (4, 228714)\t0.5446455329776886\n",
      "  :\t:\n",
      "  (319995, 296066)\t0.2515788751771113\n",
      "  (319995, 253110)\t0.18089748426014476\n",
      "  (319995, 248109)\t0.3842407316787909\n",
      "  (319995, 220134)\t0.17044440073135522\n",
      "  (319995, 200339)\t0.19456747237475538\n",
      "  (319995, 182075)\t0.3834314468081863\n",
      "  (319995, 153716)\t0.15938914354889785\n",
      "  (319995, 135790)\t0.29364943720310405\n",
      "  (319995, 135706)\t0.22882139385826422\n",
      "  (319996, 386902)\t0.2607238005336423\n",
      "  (319996, 355449)\t0.6335167179002315\n",
      "  (319996, 236434)\t0.625437927326115\n",
      "  (319996, 178019)\t0.37350644845601405\n",
      "  (319997, 378479)\t0.31933442077938035\n",
      "  (319997, 312345)\t0.7773021704158531\n",
      "  (319997, 258625)\t0.35639242317524483\n",
      "  (319997, 139487)\t0.4084253962176922\n",
      "  (319998, 398955)\t0.22183828559680732\n",
      "  (319998, 391316)\t0.3703191515461817\n",
      "  (319998, 384527)\t0.19577501271176415\n",
      "  (319998, 381349)\t0.20907246536489016\n",
      "  (319998, 353194)\t0.6336163561350525\n",
      "  (319998, 317180)\t0.20256737916456302\n",
      "  (319998, 197328)\t0.36207397541153796\n",
      "  (319998, 37271)\t0.3975066743235445\n"
     ]
    }
   ],
   "source": []
  }
 ],
 "metadata": {
  "kernelspec": {
   "display_name": "Python 3",
   "language": "python",
   "name": "python3"
  },
  "language_info": {
   "codemirror_mode": {
    "name": "ipython",
    "version": 3
   },
   "file_extension": ".py",
   "mimetype": "text/x-python",
   "name": "python",
   "nbconvert_exporter": "python",
   "pygments_lexer": "ipython3",
   "version": "3.8.5"
  }
 },
 "nbformat": 4,
 "nbformat_minor": 4
}
